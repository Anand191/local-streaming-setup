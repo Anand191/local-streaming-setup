{
 "cells": [
  {
   "cell_type": "markdown",
   "id": "c955c271",
   "metadata": {},
   "source": [
    "# Test Local Streaming Setup"
   ]
  },
  {
   "cell_type": "code",
   "execution_count": 1,
   "id": "f3216e1d",
   "metadata": {},
   "outputs": [],
   "source": [
    "import asyncio\n",
    "\n",
    "import aiohttp\n",
    "import nest_asyncio\n",
    "from typing import Any"
   ]
  },
  {
   "cell_type": "code",
   "execution_count": 2,
   "id": "6381facb",
   "metadata": {},
   "outputs": [],
   "source": [
    "nest_asyncio.apply()\n",
    "sample_payload = {\n",
    "    \"payload\": {\n",
    "        \"data\": [\"Apple\", \"Samsung\", \"OnePlus\", \"Google\"]\n",
    "    }\n",
    "}\n",
    "request_ep = \"http://localhost:8080/python/produce\"\n",
    "response_ep = \"http://localhost:8080/python/consume\""
   ]
  },
  {
   "cell_type": "markdown",
   "id": "01efcdf9",
   "metadata": {},
   "source": [
    "## Using async Post and Polling to fetch results as they are processed\n",
    "Inefficient because we still have to poll the GET endpoint via. the reverse proxy. The processed output from the response topic however is still being read by a Kafka Consumer and is therefore a NON Polling operation"
   ]
  },
  {
   "cell_type": "code",
   "execution_count": 3,
   "id": "24d13f56",
   "metadata": {},
   "outputs": [],
   "source": [
    "# Async POST and GET polling using aiohttp\n",
    "poll_interval = 1 # Seconds between GET polls\n",
    "max_polls = 10 # Maximum number of GET polls per request_id\n",
    "\n",
    "async def poll_for_result(session: aiohttp.ClientSession, request_id: str) -> dict[str, Any] | None:\n",
    "    \"\"\"Polls the response endpoint for the result corresponding to the given request_id.\"\"\"\n",
    "    for attempt in range(max_polls):\n",
    "        async with session.get(f\"{response_ep}/{request_id}\") as resp:\n",
    "            if resp.status == 200:\n",
    "                data = await resp.json()\n",
    "                if data.get(\"status\") == \"completed\":\n",
    "                    print(f\"Result for request_id {request_id}: {data}\")\n",
    "                    return data\n",
    "                else:\n",
    "                    print(f\"Response for request_id {request_id} malformed.\")\n",
    "            else:\n",
    "                print(f\"Attempt {attempt + 1}: Result not ready yet for request_id {request_id}. Retrying in {poll_interval} seconds...\")\n",
    "        await asyncio.sleep(poll_interval)\n",
    "    print(f\"Max polls reached for request_id {request_id}. Moving to next request.\")\n",
    "    return None\n",
    "\n",
    "\n",
    "async def post_and_poll(N: int = 2) -> None:\n",
    "    async with aiohttp.ClientSession() as session:\n",
    "        tasks  = []\n",
    "        for i in range(N):\n",
    "            async with session.post(request_ep, json=sample_payload) as resp:\n",
    "                if resp.status == 202:\n",
    "                    data = await resp.json()\n",
    "                    request_id = data.get(\"request_id\")\n",
    "                    print(f\"Request {i + 1}: Sent payload. Received request_id: {request_id}\")\n",
    "                    if request_id:\n",
    "                        tasks.append(poll_for_result(session, request_id))\n",
    "                    else:\n",
    "                        print(f\"No request_id received. Status code: {resp.status}\")\n",
    "        # Running all polling tasks concurrently\n",
    "        await asyncio.gather(*tasks)"
   ]
  },
  {
   "cell_type": "code",
   "execution_count": 4,
   "id": "4fe1596c",
   "metadata": {},
   "outputs": [
    {
     "name": "stdout",
     "output_type": "stream",
     "text": [
      "Request 1: Sent payload. Received request_id: 120d0a6e-3ab9-4119-8d2c-42f184e9a34a\n",
      "Request 2: Sent payload. Received request_id: 3da61acf-c868-4d5c-b625-df36c08ea472\n",
      "Attempt 1: Result not ready yet for request_id 120d0a6e-3ab9-4119-8d2c-42f184e9a34a. Retrying in 1 seconds...\n",
      "Attempt 1: Result not ready yet for request_id 3da61acf-c868-4d5c-b625-df36c08ea472. Retrying in 1 seconds...\n",
      "Result for request_id 120d0a6e-3ab9-4119-8d2c-42f184e9a34a: {'request_id': '120d0a6e-3ab9-4119-8d2c-42f184e9a34a', 'status': 'completed', 'result': {'processed_data': \"Processed ['Apple', 'Samsung', 'OnePlus', 'Google']\"}}\n",
      "Attempt 2: Result not ready yet for request_id 3da61acf-c868-4d5c-b625-df36c08ea472. Retrying in 1 seconds...\n",
      "Attempt 3: Result not ready yet for request_id 3da61acf-c868-4d5c-b625-df36c08ea472. Retrying in 1 seconds...\n",
      "Result for request_id 3da61acf-c868-4d5c-b625-df36c08ea472: {'request_id': '3da61acf-c868-4d5c-b625-df36c08ea472', 'status': 'completed', 'result': {'processed_data': \"Processed ['Apple', 'Samsung', 'OnePlus', 'Google']\"}}\n"
     ]
    }
   ],
   "source": [
    "# Run the async function\n",
    "asyncio.run(post_and_poll(N=2))"
   ]
  },
  {
   "cell_type": "markdown",
   "id": "websocket-intro",
   "metadata": {},
   "source": [
    "## Using WebSockets for Real-Time Results\n",
    "\n",
    "The cell below demonstrates a more efficient, push-based approach using WebSockets. Instead of polling a GET endpoint, the client opens a persistent WebSocket connection and simply waits for the server to push the result. This reduces latency and eliminates unnecessary network traffic."
   ]
  },
  {
   "cell_type": "code",
   "execution_count": 5,
   "id": "websocket-code",
   "metadata": {},
   "outputs": [],
   "source": [
    "# Using WebSocket to get results\n",
    "ws_ep = \"ws://localhost:8080/python/ws/results\"\n",
    "\n",
    "async def listen_for_result_ws(session: aiohttp.ClientSession, request_id: str) -> None:\n",
    "    \"\"\"Connects to the WebSocket endpoint and waits for the result.\"\"\"\n",
    "    ws_url = f\"{ws_ep}/{request_id}\"\n",
    "    print(f\"Connecting to WebSocket: {ws_url}\")\n",
    "    try:\n",
    "        async with session.ws_connect(ws_url, timeout=60.0) as ws:\n",
    "            print(f\"WebSocket connection established for request_id: {request_id}\")\n",
    "            # Wait for one message and then close\n",
    "            msg = await ws.receive_json()\n",
    "            print(f\"Result for request_id {request_id}: {msg}\")\n",
    "            await ws.close()\n",
    "    except aiohttp.ClientError as e:\n",
    "        print(f\"Error connecting or listening to WebSocket for {request_id}: {e}\")\n",
    "\n",
    "async def post_and_listen_ws(N: int = 2) -> None:\n",
    "    async with aiohttp.ClientSession() as session:\n",
    "        tasks = []\n",
    "        for i in range(N):\n",
    "            async with session.post(request_ep, json=sample_payload) as resp:\n",
    "                if resp.status == 202:\n",
    "                    data = await resp.json()\n",
    "                    request_id = data.get(\"request_id\")\n",
    "                    print(f\"Request {i + 1}: Sent payload. Received request_id: {request_id}\")\n",
    "                    if request_id:\n",
    "                        tasks.append(listen_for_result_ws(session, request_id))\n",
    "                    else:\n",
    "                        print(f\"No request_id received. Status code: {resp.status}\")\n",
    "        \n",
    "        # Running all WebSocket listener tasks concurrently\n",
    "        if tasks:\n",
    "            await asyncio.gather(*tasks)"
   ]
  },
  {
   "cell_type": "code",
   "execution_count": 6,
   "id": "0daf31b6",
   "metadata": {},
   "outputs": [
    {
     "name": "stdout",
     "output_type": "stream",
     "text": [
      "Request 1: Sent payload. Received request_id: c41b678e-1518-48d5-b661-231e711e9c78\n",
      "Request 2: Sent payload. Received request_id: 93fae7a5-80d9-40e4-ad45-a96a9b5eac1e\n",
      "Connecting to WebSocket: ws://localhost:8080/python/ws/results/c41b678e-1518-48d5-b661-231e711e9c78\n",
      "Connecting to WebSocket: ws://localhost:8080/python/ws/results/93fae7a5-80d9-40e4-ad45-a96a9b5eac1e\n",
      "WebSocket connection established for request_id: c41b678e-1518-48d5-b661-231e711e9c78\n",
      "WebSocket connection established for request_id: 93fae7a5-80d9-40e4-ad45-a96a9b5eac1e\n",
      "Result for request_id c41b678e-1518-48d5-b661-231e711e9c78: {'request_id': 'c41b678e-1518-48d5-b661-231e711e9c78', 'status': 'completed', 'result': {'processed_data': \"Processed ['Apple', 'Samsung', 'OnePlus', 'Google']\"}}\n",
      "Result for request_id 93fae7a5-80d9-40e4-ad45-a96a9b5eac1e: {'request_id': '93fae7a5-80d9-40e4-ad45-a96a9b5eac1e', 'status': 'completed', 'result': {'processed_data': \"Processed ['Apple', 'Samsung', 'OnePlus', 'Google']\"}}\n"
     ]
    }
   ],
   "source": [
    "# Run the WebSocket-based async function\n",
    "asyncio.run(post_and_listen_ws(N=2))"
   ]
  },
  {
   "cell_type": "code",
   "execution_count": null,
   "id": "06db2edd",
   "metadata": {},
   "outputs": [],
   "source": []
  }
 ],
 "metadata": {
  "kernelspec": {
   "display_name": "local-streaming-setup-py3.12",
   "language": "python",
   "name": "python3"
  },
  "language_info": {
   "codemirror_mode": {
    "name": "ipython",
    "version": 3
   },
   "file_extension": ".py",
   "mimetype": "text/x-python",
   "name": "python",
   "nbconvert_exporter": "python",
   "pygments_lexer": "ipython3",
   "version": "3.12.3"
  }
 },
 "nbformat": 4,
 "nbformat_minor": 5
}
