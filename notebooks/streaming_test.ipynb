{
 "cells": [
  {
   "cell_type": "markdown",
   "id": "c955c271",
   "metadata": {},
   "source": [
    "# Test Local Streaming Setup"
   ]
  },
  {
   "cell_type": "code",
   "execution_count": null,
   "id": "f3216e1d",
   "metadata": {},
   "outputs": [],
   "source": [
    "import asyncio\n",
    "\n",
    "import aiohttp\n",
    "import nest_asyncio"
   ]
  },
  {
   "cell_type": "code",
   "execution_count": null,
   "id": "6381facb",
   "metadata": {},
   "outputs": [],
   "source": [
    "nest_asyncio.apply()\n",
    "sample_payload = {\n",
    "    \"payload\": {\n",
    "        \"data\": [\"Apple\", \"Samsung\", \"OnePlus\", \"Google\"]\n",
    "    }\n",
    "}\n",
    "request_ep = \"http://localhost:8080/python/produce\"\n",
    "response_ep = \"http://localhost:8080/python/consume\""
   ]
  },
  {
   "cell_type": "code",
   "execution_count": null,
   "id": "24d13f56",
   "metadata": {},
   "outputs": [],
   "source": [
    "# Async POST and GET polling using aiohttp\n",
    "\n",
    "n = 1 # Number of times to send the request\n",
    "poll_interval = 1 # Seconds between GET polls\n",
    "max_polls = 10 # Maximum number of GET polls per request_id\n",
    "\n",
    "async def poll_for_result(session: aiohttp.ClientSession, request_id: str) -> None:\n",
    "    \"\"\"Polls the response endpoint for the result corresponding to the given request_id.\"\"\"\n",
    "    for attempt in range(max_polls):\n",
    "        async with session.get(f\"{response_ep}/{request_id}\") as resp:\n",
    "            if resp.status == 200:\n",
    "                data = await resp.json()\n",
    "                if data.get(\"status\") == \"completed\":\n",
    "                    print(f\"Result for request_id {request_id}: {data}\")\n",
    "                else:\n",
    "                    print(f\"Attempt {attempt + 1}: Result not ready yet for request_id {request_id}. Retrying in {poll_interval} seconds...\")\n",
    "            else:\n",
    "                print(f\"Attempt {attempt + 1}: Failed to fetch result for request_id {request_id}. Status code: {resp.status}\")\n",
    "        await asyncio.sleep(poll_interval)\n",
    "    print(f\"Max polls reached for request_id {request_id}. Moving to next request.\")\n",
    "    return None\n",
    "\n",
    "\n",
    "async def post_and_poll() -> None:\n",
    "    async with aiohttp.ClientSession() as session:\n",
    "        tasks  = []\n",
    "        for i in range(n):\n",
    "            async with session.post(request_ep, json=sample_payload) as resp:\n",
    "                if resp.status == 200:\n",
    "                    data = await resp.json()\n",
    "                    request_id = data.get(\"request_id\")\n",
    "                    print(f\"Request {i + 1}: Sent payload. Received request_id: {request_id}\")\n",
    "                    if request_id:\n",
    "                        tasks.append(poll_for_result(session, request_id))\n",
    "                    else:\n",
    "                        print(f\"No request_id received. Status code: {resp.status}\")\n",
    "        # Running all polling tasks concurrently\n",
    "        results = await asyncio.gather(*tasks)"
   ]
  },
  {
   "cell_type": "code",
   "execution_count": null,
   "id": "4fe1596c",
   "metadata": {},
   "outputs": [],
   "source": [
    "# Run the async function\n",
    "asyncio.run(post_and_poll())"
   ]
  }
 ],
 "metadata": {
  "kernelspec": {
   "display_name": "local-streaming-setup-py3.12",
   "language": "python",
   "name": "python3"
  },
  "language_info": {
   "name": "python",
   "version": "3.12.3"
  }
 },
 "nbformat": 4,
 "nbformat_minor": 5
}
