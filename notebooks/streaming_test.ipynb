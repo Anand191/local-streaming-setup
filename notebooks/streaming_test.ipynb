{
 "cells": [
  {
   "cell_type": "markdown",
   "id": "c955c271",
   "metadata": {},
   "source": [
    "# Test Local Streaming Setup"
   ]
  },
  {
   "cell_type": "code",
   "execution_count": 10,
   "id": "f3216e1d",
   "metadata": {},
   "outputs": [],
   "source": [
    "import asyncio\n",
    "\n",
    "import aiohttp\n",
    "import nest_asyncio\n",
    "from typing import Any"
   ]
  },
  {
   "cell_type": "code",
   "execution_count": 2,
   "id": "6381facb",
   "metadata": {},
   "outputs": [],
   "source": [
    "nest_asyncio.apply()\n",
    "sample_payload = {\n",
    "    \"payload\": {\n",
    "        \"data\": [\"Apple\", \"Samsung\", \"OnePlus\", \"Google\"]\n",
    "    }\n",
    "}\n",
    "request_ep = \"http://localhost:8080/python/produce\"\n",
    "response_ep = \"http://localhost:8080/python/consume\""
   ]
  },
  {
   "cell_type": "code",
   "execution_count": 11,
   "id": "24d13f56",
   "metadata": {},
   "outputs": [],
   "source": [
    "# Async POST and GET polling using aiohttp\n",
    "poll_interval = 1 # Seconds between GET polls\n",
    "max_polls = 10 # Maximum number of GET polls per request_id\n",
    "\n",
    "async def poll_for_result(session: aiohttp.ClientSession, request_id: str) -> dict[str, Any] | None:\n",
    "    \"\"\"Polls the response endpoint for the result corresponding to the given request_id.\"\"\"\n",
    "    for attempt in range(max_polls):\n",
    "        async with session.get(f\"{response_ep}/{request_id}\") as resp:\n",
    "            if resp.status == 200:\n",
    "                data = await resp.json()\n",
    "                if data.get(\"status\") == \"completed\":\n",
    "                    print(f\"Result for request_id {request_id}: {data}\")\n",
    "                    return data\n",
    "                else:\n",
    "                    print(f\"Response for request_id {request_id} malformed.\")\n",
    "            else:\n",
    "                print(f\"Attempt {attempt + 1}: Result not ready yet for request_id {request_id}. Retrying in {poll_interval} seconds...\")\n",
    "        await asyncio.sleep(poll_interval)\n",
    "    print(f\"Max polls reached for request_id {request_id}. Moving to next request.\")\n",
    "    return None\n",
    "\n",
    "\n",
    "async def post_and_poll(N: int = 2) -> None:\n",
    "    async with aiohttp.ClientSession() as session:\n",
    "        tasks  = []\n",
    "        for i in range(N):\n",
    "            async with session.post(request_ep, json=sample_payload) as resp:\n",
    "                if resp.status == 202:\n",
    "                    data = await resp.json()\n",
    "                    request_id = data.get(\"request_id\")\n",
    "                    print(f\"Request {i + 1}: Sent payload. Received request_id: {request_id}\")\n",
    "                    if request_id:\n",
    "                        tasks.append(poll_for_result(session, request_id))\n",
    "                    else:\n",
    "                        print(f\"No request_id received. Status code: {resp.status}\")\n",
    "        # Running all polling tasks concurrently\n",
    "        results = await asyncio.gather(*tasks)"
   ]
  },
  {
   "cell_type": "code",
   "execution_count": 12,
   "id": "4fe1596c",
   "metadata": {},
   "outputs": [
    {
     "name": "stdout",
     "output_type": "stream",
     "text": [
      "Request 1: Sent payload. Received request_id: e9133042-3f30-4590-ab7e-c14e9259d093\n",
      "Request 2: Sent payload. Received request_id: ad738b51-ec34-4f55-b3ca-778c494ede3c\n",
      "Attempt 1: Result not ready yet for request_id ad738b51-ec34-4f55-b3ca-778c494ede3c. Retrying in 1 seconds...\n",
      "Attempt 1: Result not ready yet for request_id e9133042-3f30-4590-ab7e-c14e9259d093. Retrying in 1 seconds...\n",
      "Result for request_id e9133042-3f30-4590-ab7e-c14e9259d093: {'request_id': 'e9133042-3f30-4590-ab7e-c14e9259d093', 'status': 'completed', 'result': {'processed_data': \"Processed ['Apple', 'Samsung', 'OnePlus', 'Google']\"}}\n",
      "Attempt 2: Result not ready yet for request_id ad738b51-ec34-4f55-b3ca-778c494ede3c. Retrying in 1 seconds...\n",
      "Attempt 3: Result not ready yet for request_id ad738b51-ec34-4f55-b3ca-778c494ede3c. Retrying in 1 seconds...\n",
      "Result for request_id ad738b51-ec34-4f55-b3ca-778c494ede3c: {'request_id': 'ad738b51-ec34-4f55-b3ca-778c494ede3c', 'status': 'completed', 'result': {'processed_data': \"Processed ['Apple', 'Samsung', 'OnePlus', 'Google']\"}}\n"
     ]
    }
   ],
   "source": [
    "# Run the async function\n",
    "n = 2 # Number of times to send the request\n",
    "asyncio.run(post_and_poll(N=n))"
   ]
  },
  {
   "cell_type": "code",
   "execution_count": null,
   "id": "fcf93b35",
   "metadata": {},
   "outputs": [],
   "source": []
  }
 ],
 "metadata": {
  "kernelspec": {
   "display_name": ".venv",
   "language": "python",
   "name": "python3"
  },
  "language_info": {
   "codemirror_mode": {
    "name": "ipython",
    "version": 3
   },
   "file_extension": ".py",
   "mimetype": "text/x-python",
   "name": "python",
   "nbconvert_exporter": "python",
   "pygments_lexer": "ipython3",
   "version": "3.11.13"
  }
 },
 "nbformat": 4,
 "nbformat_minor": 5
}
